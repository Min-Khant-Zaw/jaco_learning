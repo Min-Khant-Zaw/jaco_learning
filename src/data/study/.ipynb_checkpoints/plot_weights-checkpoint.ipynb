{
 "cells": [
  {
   "cell_type": "code",
   "execution_count": 4,
   "metadata": {
    "collapsed": true
   },
   "outputs": [],
   "source": [
    "import numpy as np\n",
    "import glob\n",
    "import pickle \n",
    "import csv\n",
    "import pandas as pd\n",
    "import matplotlib.pyplot as plt \n",
    "import matplotlib.mlab as mlab\n",
    "\n",
    "from scipy import stats  \n"
   ]
  },
  {
   "cell_type": "code",
   "execution_count": 1,
   "metadata": {
    "collapsed": true
   },
   "outputs": [],
   "source": [
    "def augment_weights(time, weights):\n",
    "    \"\"\"\n",
    "    Augments the weight data with 0.1 sec timesteps\n",
    "    \"\"\"\n",
    "    #print \"time: \" + str(time)\n",
    "    feat_w = weights\n",
    "    #print \"feat_w: \" + str(feat_w)\n",
    "\n",
    "    aug_time = [0.0]*200 # traj is 20 sec, sampling at 0.1 sec\n",
    "    aug_feat = [0.0]*200\n",
    "\n",
    "    aug_idx = 0\n",
    "    idx = 0\n",
    "    prev_feat = 0.0\n",
    "    times = np.arange(0.1, 20.0, 0.1)\n",
    "    for t in times:\n",
    "        aug_time[aug_idx] = t\n",
    "        #clipped_t = round(time[idx][0],1)\n",
    "        if idx < len(cup_w) and np.isclose(round(time[idx][0],1), t, rtol=1e-05, atol=1e-08, equal_nan=False):\n",
    "            aug_feat[aug_idx] = feat_w[idx]\n",
    "            prev_feat = feat_w[idx]\n",
    "            idx += 1\n",
    "        else:\n",
    "            aug_feat[aug_idx] = prev_feat\n",
    "        aug_idx += 1\n",
    "\n",
    "    aug_time[-1] = 20.0\n",
    "    aug_feat[-1] = prev_feat\n",
    "    return (aug_time, aug_feat)\n"
   ]
  },
  {
   "cell_type": "code",
   "execution_count": 2,
   "metadata": {
    "collapsed": true
   },
   "outputs": [],
   "source": [
    "def plot_weights(task, saveFig=False):\n",
    "    \"\"\"\n",
    "    For the current task, makes 4 plots of all the weight updates over time\n",
    "    for all the participants. \n",
    "    Two sets of plots: \n",
    "        - left 2 are for Update ALL (top = cup weight, bottom = table)\n",
    "        - right 2 are for Update ONE (top = cup weight, bottom = table)\n",
    "    \"\"\"\n",
    "    weightData = data_io.parse_exp_data(\"weights\")\n",
    "\n",
    "    f, ((ax1, ax2)) = plt.subplots(1, 2, sharex='col', sharey='row')\n",
    "\n",
    "    ax1.set_title('Update ALL')\n",
    "    ax2.set_title('Update BETA')\n",
    "    ax1.set_xlabel('time (s)')\n",
    "    ax2.set_xlabel('time (s)')\n",
    "    ax1.set_ylabel('weight')\n",
    "    ax2.set_ylabel('weight')\n",
    "\n",
    "    ax1.set_ylim([-1.5, 1.5])\n",
    "    ax2.set_ylim([-1.5, 1.5])\n",
    "\n",
    "    ax1.set_xlim([0, 20])\n",
    "    ax2.set_xlim([0, 20])\n",
    "\n",
    "    #ax2.set_title('Task 2: Table+Cup')\n",
    "\n",
    "    greyC = \"grey\"\t\t#(44/255., 160/255., 44/255.)\n",
    "    blueC = \"#4BABC5\" \t#(31/255., 119/255., 180/255.)\n",
    "    orangeC = \"#F79545\" #(255/255., 127/255., 14/255.)\n",
    "\n",
    "    trial = 2\n",
    "\n",
    "    if task == 1:\n",
    "        f.suptitle(\"Task 1: Correct Distance to Table\",fontsize=20)\n",
    "    else:\n",
    "        f.suptitle(\"Task 2: Correct Distance to Table + Cup Orientation\",fontsize=20)\n",
    "    Acount = 0\n",
    "    Bcount = 0\n",
    "\n",
    "    for ID in weightData.keys():\n",
    "        #for task in weightData[ID]:\n",
    "        # trial can take values 1 or 2\n",
    "        #for trial in weightData[ID][task]:\n",
    "        for method in weightData[ID][task][trial]:\n",
    "\n",
    "            data = weightData[ID][task][trial][method]\n",
    "            timestamp = data[:,0:1]\n",
    "            weights = data[:,1:len(data)+1]\n",
    "\n",
    "            (aug_time, aug_feat) = augment_weights(timestamp, weights)\n",
    "\n",
    "            if method == \"A\":\n",
    "                if Acount != 0:\n",
    "                    ax1.plot(aug_time,aug_cup,linewidth=4.0, color=greyC)\n",
    "                else:\n",
    "                    ax1.plot(aug_time,aug_cup,linewidth=4.0, color=greyC, label='Cup')\n",
    "                    Acount += 1\n",
    "                    ax1.axhline(y=0, color='k', linestyle='-')\n",
    "                    ax1.legend()\n",
    "            elif method == \"B\":\n",
    "                if Bcount != 0:\n",
    "                    ax2.plot(aug_time,aug_cup,linewidth=4.0, color=orangeC)\n",
    "                else:\n",
    "                    ax2.plot(aug_time,aug_cup,linewidth=4.0, color=orangeC, label='Cup')\n",
    "                    Bcount += 1\n",
    "                    ax2.axhline(y=0, color='k', linestyle='-')\n",
    "                    ax2.legend()\n",
    "\n",
    "    plt.show()\n",
    "\n",
    "    if saveFig:\n",
    "        here = os.path.dirname(os.path.realpath(__file__))\n",
    "        subdir = \"/data/experimental/\"\n",
    "        datapath = here + subdir\n",
    "        f.savefig(datapath+\"task\"+str(task)+\"Weights.pdf\", bbox_inches=\"tight\")\n",
    "        print \"Saved weights figure.\"\n"
   ]
  },
  {
   "cell_type": "code",
   "execution_count": 3,
   "metadata": {},
   "outputs": [
    {
     "ename": "NameError",
     "evalue": "global name 'data_io' is not defined",
     "output_type": "error",
     "traceback": [
      "\u001b[0;31m---------------------------------------------------------------------------\u001b[0m",
      "\u001b[0;31mNameError\u001b[0m                                 Traceback (most recent call last)",
      "\u001b[0;32m<ipython-input-3-958c6f492d7a>\u001b[0m in \u001b[0;36m<module>\u001b[0;34m()\u001b[0m\n\u001b[1;32m      1\u001b[0m \u001b[0mtask\u001b[0m \u001b[0;34m=\u001b[0m \u001b[0;36m1\u001b[0m\u001b[0;34m\u001b[0m\u001b[0m\n\u001b[0;32m----> 2\u001b[0;31m \u001b[0mplot_weights\u001b[0m\u001b[0;34m(\u001b[0m\u001b[0mtask\u001b[0m\u001b[0;34m)\u001b[0m\u001b[0;34m\u001b[0m\u001b[0m\n\u001b[0m",
      "\u001b[0;32m<ipython-input-2-9c4e69bcde93>\u001b[0m in \u001b[0;36mplot_weights\u001b[0;34m(task, saveFig)\u001b[0m\n\u001b[1;32m      7\u001b[0m         \u001b[0;34m-\u001b[0m \u001b[0mright\u001b[0m \u001b[0;36m2\u001b[0m \u001b[0mare\u001b[0m \u001b[0;32mfor\u001b[0m \u001b[0mUpdate\u001b[0m \u001b[0mONE\u001b[0m \u001b[0;34m(\u001b[0m\u001b[0mtop\u001b[0m \u001b[0;34m=\u001b[0m \u001b[0mcup\u001b[0m \u001b[0mweight\u001b[0m\u001b[0;34m,\u001b[0m \u001b[0mbottom\u001b[0m \u001b[0;34m=\u001b[0m \u001b[0mtable\u001b[0m\u001b[0;34m)\u001b[0m\u001b[0;34m\u001b[0m\u001b[0m\n\u001b[1;32m      8\u001b[0m     \"\"\"\n\u001b[0;32m----> 9\u001b[0;31m     \u001b[0mweightData\u001b[0m \u001b[0;34m=\u001b[0m \u001b[0mdata_io\u001b[0m\u001b[0;34m.\u001b[0m\u001b[0mparse_exp_data\u001b[0m\u001b[0;34m(\u001b[0m\u001b[0;34m\"weights\"\u001b[0m\u001b[0;34m)\u001b[0m\u001b[0;34m\u001b[0m\u001b[0m\n\u001b[0m\u001b[1;32m     10\u001b[0m \u001b[0;34m\u001b[0m\u001b[0m\n\u001b[1;32m     11\u001b[0m     \u001b[0mf\u001b[0m\u001b[0;34m,\u001b[0m \u001b[0;34m(\u001b[0m\u001b[0;34m(\u001b[0m\u001b[0max1\u001b[0m\u001b[0;34m,\u001b[0m \u001b[0max2\u001b[0m\u001b[0;34m)\u001b[0m\u001b[0;34m)\u001b[0m \u001b[0;34m=\u001b[0m \u001b[0mplt\u001b[0m\u001b[0;34m.\u001b[0m\u001b[0msubplots\u001b[0m\u001b[0;34m(\u001b[0m\u001b[0;36m1\u001b[0m\u001b[0;34m,\u001b[0m \u001b[0;36m2\u001b[0m\u001b[0;34m,\u001b[0m \u001b[0msharex\u001b[0m\u001b[0;34m=\u001b[0m\u001b[0;34m'col'\u001b[0m\u001b[0;34m,\u001b[0m \u001b[0msharey\u001b[0m\u001b[0;34m=\u001b[0m\u001b[0;34m'row'\u001b[0m\u001b[0;34m)\u001b[0m\u001b[0;34m\u001b[0m\u001b[0m\n",
      "\u001b[0;31mNameError\u001b[0m: global name 'data_io' is not defined"
     ]
    }
   ],
   "source": [
    "task = 1\n",
    "plot_weights(task)\n"
   ]
  },
  {
   "cell_type": "code",
   "execution_count": null,
   "metadata": {
    "collapsed": true
   },
   "outputs": [],
   "source": []
  }
 ],
 "metadata": {
  "kernelspec": {
   "display_name": "Python 2",
   "language": "python",
   "name": "python2"
  },
  "language_info": {
   "codemirror_mode": {
    "name": "ipython",
    "version": 2
   },
   "file_extension": ".py",
   "mimetype": "text/x-python",
   "name": "python",
   "nbconvert_exporter": "python",
   "pygments_lexer": "ipython2",
   "version": "2.7.14"
  }
 },
 "nbformat": 4,
 "nbformat_minor": 2
}
